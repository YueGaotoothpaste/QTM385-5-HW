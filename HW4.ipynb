{
 "cells": [
  {
   "cell_type": "markdown",
   "metadata": {},
   "source": [
    "# QTM 385\n",
    "\n",
    "***\n",
    "\n",
    "## Homework 4\n",
    "\n",
    "Student: Yue Gao Leah [#2323100]"
   ]
  },
  {
   "cell_type": "markdown",
   "metadata": {},
   "source": [
    "In this homework, we will create an object called Student, that is useful for a professor to store information about a student."
   ]
  },
  {
   "cell_type": "markdown",
   "metadata": {},
   "source": [
    "\n",
    "***\n",
    "\n",
    "### Question 1\n",
    "\n",
    "Create a class Student, that has:\n",
    "\n",
    "0. Id number (5-digits integer, starting with 1)\n",
    "1. First Name (str)\n",
    "2. Last Name (str)\n",
    "3. Grades (list of floats)\n",
    "4. Credits (list of integers)\n",
    "5. Major (str)\n",
    "\n",
    "Provide a constructor for your class and create one fictitious student."
   ]
  },
  {
   "cell_type": "code",
   "execution_count": 5,
   "metadata": {},
   "outputs": [],
   "source": [
    "# Your answer here\n",
    "class Student:\n",
    "    def __init__(self, id_, fname, lname, grades, credits, major):\n",
    "        self.id = id_\n",
    "        self.firstname = fname\n",
    "        self.lastname = lname\n",
    "        self.grades = grades\n",
    "        self.credits = credits\n",
    "        self.major = major"
   ]
  },
  {
   "cell_type": "code",
   "execution_count": 12,
   "metadata": {},
   "outputs": [],
   "source": [
    "stu = Student('12323', 'Toothpaste', 'Gao', [1.0,2.0,1.1,2.1], [1,2,1,2], 'Math')"
   ]
  },
  {
   "cell_type": "markdown",
   "metadata": {},
   "source": [
    "\n",
    "***\n",
    "\n",
    "### Question 2\n",
    "\n",
    "Create a method to nicely display the student when we type `print`. It should display, for example:\n",
    "\n",
    "```\n",
    "Student:\n",
    "    Id: 12345\n",
    "    Name: Mig, Umberto\n",
    "    Major: QSS\n",
    "```\n",
    "\n",
    "Create a method that, when a variable storing a student is typed in the console, displays:\n",
    "\n",
    "```\n",
    "Student(Mig, Umberto; 12345)\n",
    "```\n",
    "\n",
    "Provide some testing with a fictitious result of your choice."
   ]
  },
  {
   "cell_type": "code",
   "execution_count": 13,
   "metadata": {},
   "outputs": [],
   "source": [
    "# Your answer here\n",
    "class Student:\n",
    "    def __init__(self, id_, fname, lname, grades, credits, major):\n",
    "        self.id = id_\n",
    "        self.firstname = fname\n",
    "        self.lastname = lname\n",
    "        self.grades = grades\n",
    "        self.credits = credits\n",
    "        self.major = major\n",
    "        \n",
    "    def __str__(self):\n",
    "        st_info = \"\"\"\n",
    "        Student: \n",
    "            ID: {id}\n",
    "            Name: {lname},{fname}\n",
    "            Major: {mjr}\n",
    "            \"\"\".format(id = self.id, fname = self.firstname, lname = self.lastname, mjr = self.major) \n",
    "        return st_info\n",
    "    \n",
    "    def __repr__(self): \n",
    "        return \"Student({lname}, {fname}; {id})\".format(fname = self.firstname, lname = self.lastname, id = self.id)"
   ]
  },
  {
   "cell_type": "code",
   "execution_count": 14,
   "metadata": {},
   "outputs": [
    {
     "name": "stdout",
     "output_type": "stream",
     "text": [
      "\n",
      "        Student: \n",
      "            ID: 12323\n",
      "            Name: Gao,Toothpaste\n",
      "            Major: Math\n",
      "            \n"
     ]
    }
   ],
   "source": [
    "print(stu)"
   ]
  },
  {
   "cell_type": "code",
   "execution_count": 15,
   "metadata": {},
   "outputs": [
    {
     "data": {
      "text/plain": [
       "Student(Gao, Toothpaste; 12323)"
      ]
     },
     "execution_count": 15,
     "metadata": {},
     "output_type": "execute_result"
    }
   ],
   "source": [
    "stu"
   ]
  },
  {
   "cell_type": "markdown",
   "metadata": {},
   "source": [
    "\n",
    "***\n",
    "\n",
    "### Question 3\n",
    "\n",
    "Implement class methods for:\n",
    "\n",
    "1. Check if the id number is valid (remember: 5 digits, starting with number one)\n",
    "2. Check if the grades list has the same length as the credits list. The idea is that every grade corresponds to a course that gave the student a certain amount of credits.\n",
    "3. Append grade and credit: given a grade, and credits attached to the grade, append both to each respective place.\n",
    "\n",
    "Test your function with a toy student of your choice."
   ]
  },
  {
   "cell_type": "code",
   "execution_count": 16,
   "metadata": {},
   "outputs": [],
   "source": [
    "# Your answer here\n",
    "class Student:\n",
    "    def __init__(self, id_, fname, lname, grades, credits, major):\n",
    "        self.id = id_\n",
    "        self.firstname = fname\n",
    "        self.lastname = lname\n",
    "        self.grades = grades\n",
    "        self.credits = credits\n",
    "        self.major = major\n",
    "\n",
    "    def __str__(self):\n",
    "        st_info = \"\"\"\n",
    "        Student: \n",
    "            ID: {id}\n",
    "            Name: {lname},{fname}\n",
    "            Major: {mjr}\n",
    "            \"\"\".format(id = self.id, fname = self.firstname, lname = self.lastname, mjr = self.major) \n",
    "        return st_info\n",
    "    \n",
    "    def __repr__(self): \n",
    "        return \"Student({lname}, {fname}; {id})\".format(fname = self.firstname, lname = self.lastname, id = self.id)\n",
    "        \n",
    "    def is_valid(self):\n",
    "        if len(self.id) == 5 and self.id[0] == '1':\n",
    "            print('ID number is valid')\n",
    "        else: \n",
    "            print('ID number is not valid')\n",
    "            \n",
    "    def is_match(self):\n",
    "        if len(self.grades) == len(self.credits):\n",
    "            print('Grades and credits match')\n",
    "        else: \n",
    "            print('Grades and credits do not match')\n",
    "            \n",
    "    def append(self):\n",
    "        if len(self.grades) == len(self.credits):\n",
    "            for g, c in zip(self.grades, self.credits):\n",
    "                print(\"Grade: \" + str(g) + \", Credit: \" + str(c))\n",
    "        else:\n",
    "            print(\"Grades and credits do not match.\")"
   ]
  },
  {
   "cell_type": "code",
   "execution_count": 17,
   "metadata": {},
   "outputs": [],
   "source": [
    "teststu = Student('1232', 'Toothpaste', 'Gao', [1.0,2.0,1.1,2.2], [1,2,1,2], 'Math')"
   ]
  },
  {
   "cell_type": "code",
   "execution_count": 18,
   "metadata": {},
   "outputs": [
    {
     "name": "stdout",
     "output_type": "stream",
     "text": [
      "ID number is not valid\n"
     ]
    }
   ],
   "source": [
    "teststu.is_valid()"
   ]
  },
  {
   "cell_type": "code",
   "execution_count": 19,
   "metadata": {},
   "outputs": [
    {
     "name": "stdout",
     "output_type": "stream",
     "text": [
      "Grades and credits match\n"
     ]
    }
   ],
   "source": [
    "teststu.is_match()"
   ]
  },
  {
   "cell_type": "code",
   "execution_count": 20,
   "metadata": {},
   "outputs": [
    {
     "name": "stdout",
     "output_type": "stream",
     "text": [
      "Grade: 1.0, Credit: 1\n",
      "Grade: 2.0, Credit: 2\n",
      "Grade: 1.1, Credit: 1\n",
      "Grade: 2.2, Credit: 2\n"
     ]
    }
   ],
   "source": [
    "teststu.append()"
   ]
  },
  {
   "cell_type": "markdown",
   "metadata": {},
   "source": [
    "\n",
    "***\n",
    "\n",
    "### Question 4\n",
    "\n",
    "Create a module in the class Student that computes the unweighted average of the student's grades."
   ]
  },
  {
   "cell_type": "code",
   "execution_count": 5,
   "metadata": {},
   "outputs": [],
   "source": [
    "# Your answer here\n",
    "class Student:\n",
    "    def __init__(self, id_, fname, lname, grades, credits, major):\n",
    "        self.id = id_\n",
    "        self.firstname = fname\n",
    "        self.lastname = lname\n",
    "        self.grades = grades\n",
    "        self.credits = credits\n",
    "        self.major = major\n",
    "\n",
    "    def __str__(self):\n",
    "        st_info = \"\"\"\n",
    "        Student: \n",
    "            ID: {id}\n",
    "            Name: {lname},{fname}\n",
    "            Major: {mjr}\n",
    "            \"\"\".format(id = self.id, fname = self.firstname, lname = self.lastname, mjr = self.major) \n",
    "        return st_info\n",
    "    \n",
    "    def __repr__(self): \n",
    "        return \"Student({lname}, {fname}; {id})\".format(fname = self.firstname, lname = self.lastname, id = self.id)\n",
    "        \n",
    "    def is_valid(self):\n",
    "        if len(self.id) == 5 and self.id[0] == '1':\n",
    "            print('ID number is valid')\n",
    "        else: \n",
    "            print('ID number is not valid')\n",
    "            \n",
    "    def is_match(self):\n",
    "        if len(self.grades) == len(self.credits):\n",
    "            print('Grades and credits match')\n",
    "        else: \n",
    "            print('Grades and credits do not match')\n",
    "            \n",
    "    def append(self):\n",
    "        if len(self.grades) == len(self.credits):\n",
    "            for g, c in zip(self.grades, self.credits):\n",
    "                print(\"Grade: \" + str(g) + \", Credit: \" + str(c))\n",
    "        else:\n",
    "            print(\"Grades and credits do not match.\")\n",
    "            \n",
    "    def unwei(self):\n",
    "        unweighted_average = sum(self.grades)/len(self.grades)\n",
    "        return \"Unweighted Average is  \" + str(unweighted_average)"
   ]
  },
  {
   "cell_type": "code",
   "execution_count": 6,
   "metadata": {},
   "outputs": [],
   "source": [
    "teststu = Student('1232', 'Toothpaste', 'Gao', [1.0,2.0,1.1,2.2], [1,2,1,2], 'Math')"
   ]
  },
  {
   "cell_type": "code",
   "execution_count": 7,
   "metadata": {},
   "outputs": [
    {
     "data": {
      "text/plain": [
       "'Unweighted Average is  1.575'"
      ]
     },
     "execution_count": 7,
     "metadata": {},
     "output_type": "execute_result"
    }
   ],
   "source": [
    "teststu.unwei()"
   ]
  },
  {
   "cell_type": "markdown",
   "metadata": {},
   "source": [
    "\n",
    "***\n",
    "\n",
    "### Question 5\n",
    "\n",
    "Create a module in the class Student that computes the weighted average of the student's grades, weighted by the credits."
   ]
  },
  {
   "cell_type": "code",
   "execution_count": 1,
   "metadata": {},
   "outputs": [],
   "source": [
    "# Your answer here\n",
    "class Student:\n",
    "    def __init__(self, id_, fname, lname, grades, credits, major):\n",
    "        self.id = id_\n",
    "        self.firstname = fname\n",
    "        self.lastname = lname\n",
    "        self.grades = grades\n",
    "        self.credits = credits\n",
    "        self.major = major\n",
    "\n",
    "    def __str__(self):\n",
    "        st_info = \"\"\"\n",
    "        Student: \n",
    "            ID: {id}\n",
    "            Name: {lname},{fname}\n",
    "            Major: {mjr}\n",
    "            \"\"\".format(id = self.id, fname = self.firstname, lname = self.lastname, mjr = self.major) \n",
    "        return st_info\n",
    "    \n",
    "    def __repr__(self): \n",
    "        return \"Student({lname}, {fname}; {id})\".format(fname = self.firstname, lname = self.lastname, id = self.id)\n",
    "        \n",
    "    def is_valid(self):\n",
    "        if len(self.id) == 5 and self.id[0] == '1':\n",
    "            print('ID number is valid')\n",
    "        else: \n",
    "            print('ID number is not valid')\n",
    "            \n",
    "    def is_match(self):\n",
    "        if len(self.grades) == len(self.credits):\n",
    "            print('Grades and credits match')\n",
    "        else: \n",
    "            print('Grades and credits do not match')\n",
    "            \n",
    "    def append(self):\n",
    "        if len(self.grades) == len(self.credits):\n",
    "            for g, c in zip(self.grades, self.credits):\n",
    "                print(\"Grade: \" + str(g) + \", Credit: \" + str(c))\n",
    "        else:\n",
    "            print(\"Grades and credits do not match.\")\n",
    "            \n",
    "    def unwei(self):\n",
    "        unweighted_average = sum(self.grades)/len(self.grades)\n",
    "        return \"Unweighted Average is  \" + str(unweighted_average)\n",
    "    \n",
    "    def wei(self):\n",
    "        sums = 0\n",
    "        if len(self.grades) == len(self.credits):\n",
    "            for g, c in zip(self.grades, self.credits):\n",
    "                s = g * c\n",
    "                sums += s\n",
    "            weighted_average = sums/sum(self.credits)\n",
    "            return \"Weighted Average: \" + str(weighted_average)\n",
    "        else:\n",
    "            print(\"Grades and credits do not match.\")"
   ]
  },
  {
   "cell_type": "code",
   "execution_count": 2,
   "metadata": {},
   "outputs": [],
   "source": [
    "teststu = Student('1232', 'Toothpaste', 'Gao', [1.0,2.0,1.1,2.2], [1,2,1,2], 'Math')"
   ]
  },
  {
   "cell_type": "code",
   "execution_count": 3,
   "metadata": {},
   "outputs": [
    {
     "data": {
      "text/plain": [
       "'Weighted Average: 1.75'"
      ]
     },
     "execution_count": 3,
     "metadata": {},
     "output_type": "execute_result"
    }
   ],
   "source": [
    "teststu.wei()"
   ]
  },
  {
   "cell_type": "markdown",
   "metadata": {},
   "source": [
    "**That's all, folks!**"
   ]
  }
 ],
 "metadata": {
  "kernelspec": {
   "display_name": "Python 3",
   "language": "python",
   "name": "python3"
  },
  "language_info": {
   "codemirror_mode": {
    "name": "ipython",
    "version": 3
   },
   "file_extension": ".py",
   "mimetype": "text/x-python",
   "name": "python",
   "nbconvert_exporter": "python",
   "pygments_lexer": "ipython3",
   "version": "3.8.8"
  },
  "toc": {
   "base_numbering": 1,
   "nav_menu": {},
   "number_sections": true,
   "sideBar": true,
   "skip_h1_title": false,
   "title_cell": "Table of Contents",
   "title_sidebar": "Contents",
   "toc_cell": false,
   "toc_position": {},
   "toc_section_display": true,
   "toc_window_display": false
  }
 },
 "nbformat": 4,
 "nbformat_minor": 4
}
